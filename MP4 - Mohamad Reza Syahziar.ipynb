{
 "cells": [
  {
   "cell_type": "markdown",
   "id": "dbcba3fb",
   "metadata": {},
   "source": [
    "# Import Libraries"
   ]
  },
  {
   "cell_type": "code",
   "execution_count": 1,
   "id": "6e9f803d",
   "metadata": {},
   "outputs": [],
   "source": [
    "import pandas as pd\n",
    "import numpy as np\n",
    "import matplotlib.pyplot as plt\n",
    "import seaborn as sns\n",
    "import datetime\n",
    "\n",
    "from sklearn.preprocessing import StandardScaler\n",
    "from sklearn.model_selection import train_test_split \n",
    "\n",
    "from sklearn.metrics import accuracy_score, precision_score, recall_score, f1_score, roc_auc_score\n",
    "from sklearn.metrics import roc_auc_score\n",
    "from sklearn import metrics\n",
    "\n",
    "from sklearn.linear_model import LogisticRegression\n",
    "from sklearn.tree import DecisionTreeClassifier \n",
    "from sklearn.neighbors import KNeighborsClassifier"
   ]
  },
  {
   "cell_type": "code",
   "execution_count": 2,
   "id": "db6f0ee4",
   "metadata": {},
   "outputs": [
    {
     "data": {
      "text/html": [
       "<div>\n",
       "<style scoped>\n",
       "    .dataframe tbody tr th:only-of-type {\n",
       "        vertical-align: middle;\n",
       "    }\n",
       "\n",
       "    .dataframe tbody tr th {\n",
       "        vertical-align: top;\n",
       "    }\n",
       "\n",
       "    .dataframe thead th {\n",
       "        text-align: right;\n",
       "    }\n",
       "</style>\n",
       "<table border=\"1\" class=\"dataframe\">\n",
       "  <thead>\n",
       "    <tr style=\"text-align: right;\">\n",
       "      <th></th>\n",
       "      <th>Unnamed: 0</th>\n",
       "      <th>Daily Time Spent on Site</th>\n",
       "      <th>Age</th>\n",
       "      <th>Area Income</th>\n",
       "      <th>Daily Internet Usage</th>\n",
       "      <th>Male</th>\n",
       "      <th>Timestamp</th>\n",
       "      <th>Clicked on Ad</th>\n",
       "      <th>city</th>\n",
       "      <th>province</th>\n",
       "      <th>category</th>\n",
       "    </tr>\n",
       "  </thead>\n",
       "  <tbody>\n",
       "    <tr>\n",
       "      <th>24</th>\n",
       "      <td>24</td>\n",
       "      <td>41.39</td>\n",
       "      <td>41</td>\n",
       "      <td>482736240.0</td>\n",
       "      <td>167.22</td>\n",
       "      <td>Perempuan</td>\n",
       "      <td>6/13/2016 17:27</td>\n",
       "      <td>Yes</td>\n",
       "      <td>Denpasar</td>\n",
       "      <td>Bali</td>\n",
       "      <td>Electronic</td>\n",
       "    </tr>\n",
       "    <tr>\n",
       "      <th>137</th>\n",
       "      <td>137</td>\n",
       "      <td>38.52</td>\n",
       "      <td>38</td>\n",
       "      <td>298068610.0</td>\n",
       "      <td>137.28</td>\n",
       "      <td>Laki-Laki</td>\n",
       "      <td>3/27/2016 23:59</td>\n",
       "      <td>Yes</td>\n",
       "      <td>Jakarta Timur</td>\n",
       "      <td>Daerah Khusus Ibukota Jakarta</td>\n",
       "      <td>Travel</td>\n",
       "    </tr>\n",
       "    <tr>\n",
       "      <th>978</th>\n",
       "      <td>978</td>\n",
       "      <td>71.40</td>\n",
       "      <td>30</td>\n",
       "      <td>505322300.0</td>\n",
       "      <td>166.31</td>\n",
       "      <td>Perempuan</td>\n",
       "      <td>5/24/2016 17:07</td>\n",
       "      <td>No</td>\n",
       "      <td>Jakarta Utara</td>\n",
       "      <td>Daerah Khusus Ibukota Jakarta</td>\n",
       "      <td>Health</td>\n",
       "    </tr>\n",
       "    <tr>\n",
       "      <th>919</th>\n",
       "      <td>919</td>\n",
       "      <td>65.56</td>\n",
       "      <td>25</td>\n",
       "      <td>487524450.0</td>\n",
       "      <td>181.25</td>\n",
       "      <td>Laki-Laki</td>\n",
       "      <td>1/5/2016 12:59</td>\n",
       "      <td>No</td>\n",
       "      <td>Tangerang Selatan</td>\n",
       "      <td>Banten</td>\n",
       "      <td>Health</td>\n",
       "    </tr>\n",
       "    <tr>\n",
       "      <th>470</th>\n",
       "      <td>470</td>\n",
       "      <td>43.84</td>\n",
       "      <td>36</td>\n",
       "      <td>494149670.0</td>\n",
       "      <td>167.42</td>\n",
       "      <td>Perempuan</td>\n",
       "      <td>6/28/2016 9:19</td>\n",
       "      <td>Yes</td>\n",
       "      <td>Tangerang Selatan</td>\n",
       "      <td>Banten</td>\n",
       "      <td>House</td>\n",
       "    </tr>\n",
       "  </tbody>\n",
       "</table>\n",
       "</div>"
      ],
      "text/plain": [
       "     Unnamed: 0  Daily Time Spent on Site  Age  Area Income  \\\n",
       "24           24                     41.39   41  482736240.0   \n",
       "137         137                     38.52   38  298068610.0   \n",
       "978         978                     71.40   30  505322300.0   \n",
       "919         919                     65.56   25  487524450.0   \n",
       "470         470                     43.84   36  494149670.0   \n",
       "\n",
       "     Daily Internet Usage       Male        Timestamp Clicked on Ad  \\\n",
       "24                 167.22  Perempuan  6/13/2016 17:27           Yes   \n",
       "137                137.28  Laki-Laki  3/27/2016 23:59           Yes   \n",
       "978                166.31  Perempuan  5/24/2016 17:07            No   \n",
       "919                181.25  Laki-Laki   1/5/2016 12:59            No   \n",
       "470                167.42  Perempuan   6/28/2016 9:19           Yes   \n",
       "\n",
       "                  city                       province    category  \n",
       "24            Denpasar                           Bali  Electronic  \n",
       "137      Jakarta Timur  Daerah Khusus Ibukota Jakarta      Travel  \n",
       "978      Jakarta Utara  Daerah Khusus Ibukota Jakarta      Health  \n",
       "919  Tangerang Selatan                         Banten      Health  \n",
       "470  Tangerang Selatan                         Banten       House  "
      ]
     },
     "execution_count": 2,
     "metadata": {},
     "output_type": "execute_result"
    }
   ],
   "source": [
    "df = pd.read_csv('E:\\Rakamin\\JAP\\Mini Project\\Predict Customer Clicked Ads Classification by Using Machine Learning\\[TASK 1] Customer Type and Behaviour Analysis on Advertisement\\Dataset\\Clicked Ads Dataset.csv')\n",
    "df.sample(5)"
   ]
  },
  {
   "cell_type": "markdown",
   "id": "35e4fa51",
   "metadata": {},
   "source": [
    "# EDA"
   ]
  },
  {
   "cell_type": "markdown",
   "id": "3f2ff499",
   "metadata": {},
   "source": [
    "Melakukan analisis Data yang akan digunakan pada Clasification"
   ]
  },
  {
   "cell_type": "code",
   "execution_count": 3,
   "id": "f1eedbdb",
   "metadata": {},
   "outputs": [
    {
     "name": "stdout",
     "output_type": "stream",
     "text": [
      "<class 'pandas.core.frame.DataFrame'>\n",
      "RangeIndex: 1000 entries, 0 to 999\n",
      "Data columns (total 11 columns):\n",
      " #   Column                    Non-Null Count  Dtype  \n",
      "---  ------                    --------------  -----  \n",
      " 0   Unnamed: 0                1000 non-null   int64  \n",
      " 1   Daily Time Spent on Site  987 non-null    float64\n",
      " 2   Age                       1000 non-null   int64  \n",
      " 3   Area Income               987 non-null    float64\n",
      " 4   Daily Internet Usage      989 non-null    float64\n",
      " 5   Male                      997 non-null    object \n",
      " 6   Timestamp                 1000 non-null   object \n",
      " 7   Clicked on Ad             1000 non-null   object \n",
      " 8   city                      1000 non-null   object \n",
      " 9   province                  1000 non-null   object \n",
      " 10  category                  1000 non-null   object \n",
      "dtypes: float64(3), int64(2), object(6)\n",
      "memory usage: 86.1+ KB\n"
     ]
    }
   ],
   "source": [
    "# informasi general tentang dataframe\n",
    "df.info()"
   ]
  },
  {
   "cell_type": "markdown",
   "id": "28d93b92",
   "metadata": {},
   "source": [
    "Berikut analisis singkat dari info data diatas:\n",
    "* Data terdiri dari 1000 data\n",
    "* Terdapat misisng value pada variabel Daily Time Spent on Site, Area Income, Daily Internet Usage, dan Male\n",
    "* Untuk tipe data sudah sesuai "
   ]
  },
  {
   "cell_type": "markdown",
   "id": "bb1f8036",
   "metadata": {},
   "source": [
    "Sebuah perusahaan ingin mengetahui apakah keefektifitas atau ketercapaian iklan yang ditayangkan untuk menarik customer.\n",
    "dari data tersebut kita menggunakan machine learning untuk membantu perusahaan menentukan target customer yang tepat untuk meminimalisir pengeluaran perusahaan dari variabel/feature. feature yang akan kita gunakan yang sesuai dengan iklan yaitu:\n",
    "* Age                        : Untuk mengetahui umur dari pengguna website\n",
    "* Daily Time Spent on Site   : Untuk mengetahui waktu yang digunakan dalam menggunakan website dalam sehari \n",
    "* Daily Internet Usage       : Untuk mengetahui waktu penggunaan internet dalam sehari\n",
    "* Timestamp                  : Untuk mengetahui waktu customer menggunakan website\n",
    "* Clicked on Ad              : Untuk mengetahui apakah iklan / Ads di click atau dilihat"
   ]
  },
  {
   "cell_type": "markdown",
   "id": "69a668ba",
   "metadata": {},
   "source": [
    "# Univariate Analisis "
   ]
  },
  {
   "cell_type": "code",
   "execution_count": 4,
   "id": "37597908",
   "metadata": {},
   "outputs": [],
   "source": [
    "# Mengambil feature yang akan digunakan pada Clasification\n",
    "nums = ['Age','Daily Time Spent on Site', 'Daily Internet Usage']\n",
    "cats = ['Timestamp','Clicked on Ad']\n",
    "used = nums + cats"
   ]
  },
  {
   "cell_type": "code",
   "execution_count": 5,
   "id": "96188189",
   "metadata": {},
   "outputs": [
    {
     "data": {
      "text/html": [
       "<div>\n",
       "<style scoped>\n",
       "    .dataframe tbody tr th:only-of-type {\n",
       "        vertical-align: middle;\n",
       "    }\n",
       "\n",
       "    .dataframe tbody tr th {\n",
       "        vertical-align: top;\n",
       "    }\n",
       "\n",
       "    .dataframe thead th {\n",
       "        text-align: right;\n",
       "    }\n",
       "</style>\n",
       "<table border=\"1\" class=\"dataframe\">\n",
       "  <thead>\n",
       "    <tr style=\"text-align: right;\">\n",
       "      <th></th>\n",
       "      <th>count</th>\n",
       "      <th>mean</th>\n",
       "      <th>std</th>\n",
       "      <th>min</th>\n",
       "      <th>25%</th>\n",
       "      <th>50%</th>\n",
       "      <th>75%</th>\n",
       "      <th>max</th>\n",
       "    </tr>\n",
       "  </thead>\n",
       "  <tbody>\n",
       "    <tr>\n",
       "      <th>Age</th>\n",
       "      <td>1000.0</td>\n",
       "      <td>36.009000</td>\n",
       "      <td>8.785562</td>\n",
       "      <td>19.00</td>\n",
       "      <td>29.00</td>\n",
       "      <td>35.00</td>\n",
       "      <td>42.00</td>\n",
       "      <td>61.00</td>\n",
       "    </tr>\n",
       "    <tr>\n",
       "      <th>Daily Time Spent on Site</th>\n",
       "      <td>987.0</td>\n",
       "      <td>64.929524</td>\n",
       "      <td>15.844699</td>\n",
       "      <td>32.60</td>\n",
       "      <td>51.27</td>\n",
       "      <td>68.11</td>\n",
       "      <td>78.46</td>\n",
       "      <td>91.43</td>\n",
       "    </tr>\n",
       "    <tr>\n",
       "      <th>Daily Internet Usage</th>\n",
       "      <td>989.0</td>\n",
       "      <td>179.863620</td>\n",
       "      <td>43.870142</td>\n",
       "      <td>104.78</td>\n",
       "      <td>138.71</td>\n",
       "      <td>182.65</td>\n",
       "      <td>218.79</td>\n",
       "      <td>267.01</td>\n",
       "    </tr>\n",
       "  </tbody>\n",
       "</table>\n",
       "</div>"
      ],
      "text/plain": [
       "                           count        mean        std     min     25%  \\\n",
       "Age                       1000.0   36.009000   8.785562   19.00   29.00   \n",
       "Daily Time Spent on Site   987.0   64.929524  15.844699   32.60   51.27   \n",
       "Daily Internet Usage       989.0  179.863620  43.870142  104.78  138.71   \n",
       "\n",
       "                             50%     75%     max  \n",
       "Age                        35.00   42.00   61.00  \n",
       "Daily Time Spent on Site   68.11   78.46   91.43  \n",
       "Daily Internet Usage      182.65  218.79  267.01  "
      ]
     },
     "execution_count": 5,
     "metadata": {},
     "output_type": "execute_result"
    }
   ],
   "source": [
    "# menunjukkan nilai feature numerikal \n",
    "df[used].describe().T"
   ]
  },
  {
   "cell_type": "code",
   "execution_count": 6,
   "id": "972cc934",
   "metadata": {},
   "outputs": [
    {
     "name": "stdout",
     "output_type": "stream",
     "text": [
      "ukuran pemusatan dari kolom Age \n",
      "mean : 36.009\n",
      "median : 35.0\n",
      "modus : 31\n",
      "------------------------------ \n",
      "\n",
      "ukuran pemusatan dari kolom Daily Time Spent on Site \n",
      "mean : 64.92952380952391\n",
      "median : 68.11\n",
      "modus : 62.26\n",
      "------------------------------ \n",
      "\n",
      "ukuran pemusatan dari kolom Daily Internet Usage \n",
      "mean : 179.86361981799803\n",
      "median : 182.65\n",
      "modus : 113.53\n",
      "------------------------------ \n",
      "\n"
     ]
    }
   ],
   "source": [
    "for col in nums:\n",
    "  print(f'ukuran pemusatan dari kolom {col} ')\n",
    "  print('mean :',df[col].mean())\n",
    "  print('median :',df[col].median())\n",
    "  print('modus :',df[col].mode()[0])\n",
    "  print('---'*10, '\\n')"
   ]
  },
  {
   "cell_type": "code",
   "execution_count": 7,
   "id": "1b009655",
   "metadata": {},
   "outputs": [
    {
     "data": {
      "image/png": "[encoded data removed]",
      "text/plain": [
       "<Figure size 432x288 with 3 Axes>"
      ]
     },
     "metadata": {
      "needs_background": "light"
     },
     "output_type": "display_data"
    }
   ],
   "source": [
    "# box plot\n",
    "features = nums\n",
    "for i in range(0, len(features)):\n",
    "    plt.subplot(1, len(features), i+1)\n",
    "    sns.boxplot(y=df[features[i]], color='blue', orient='v')\n",
    "    plt.tight_layout()"
   ]
  },
  {
   "cell_type": "code",
   "execution_count": 8,
   "id": "719d706d",
   "metadata": {},
   "outputs": [
    {
     "data": {
      "image/png": "[encoded data removed]",
      "text/plain": [
       "<Figure size 1152x1152 with 4 Axes>"
      ]
     },
     "metadata": {
      "needs_background": "light"
     },
     "output_type": "display_data"
    }
   ],
   "source": [
    "# histogram\n",
    "h = df[nums].hist(bins=25,figsize=(16,16),xlabelsize='10',ylabelsize='10',xrot=-15)\n",
    "sns.despine(left=True, bottom=True)\n",
    "[x.title.set_size(12) for x in h.ravel()];\n",
    "[x.yaxis.tick_left() for x in h.ravel()];"
   ]
  },
  {
   "cell_type": "markdown",
   "id": "fec5e6b1",
   "metadata": {},
   "source": [
    "Dapat dilihat pada nilai ukuran pemusatan bahwa ( mean > median > modus) yang berarti Age memiliki distribusi positif atau dari visualisasi box plot bahwa nilai dari age bagus tanpa outlier dan dapat dilihat pada histogram bahwa Age berdistribusi positif, untuk Daily Time Spent on Site dan Daily Internet Usage memiliki nilai yang naik turun tetapi pada box plot terlihat bahwa data yang dimiliki bagus tidak memiliki outlier dan distribusinya bersifat naik turun yaitu multinominal,\n",
    "Rekomendasi pemrosesan data untuk feature ini yaitu:\n",
    "* Age : Log transformation\n",
    "* Daily Time Spent on Site dan Daily Internet Usage : Normalisasi"
   ]
  },
  {
   "cell_type": "code",
   "execution_count": 9,
   "id": "ea85906c",
   "metadata": {},
   "outputs": [
    {
     "data": {
      "text/plain": [
       "No     500\n",
       "Yes    500\n",
       "Name: Clicked on Ad, dtype: int64"
      ]
     },
     "execution_count": 9,
     "metadata": {},
     "output_type": "execute_result"
    }
   ],
   "source": [
    "# menunjukkan nilai feature kategorikal ('Clicked on Ad')\n",
    "df['Clicked on Ad'].value_counts()"
   ]
  },
  {
   "cell_type": "code",
   "execution_count": 10,
   "id": "2c6ca515",
   "metadata": {},
   "outputs": [
    {
     "data": {
      "text/plain": [
       "count                1000\n",
       "unique                997\n",
       "top       5/26/2016 15:40\n",
       "freq                    2\n",
       "Name: Timestamp, dtype: object"
      ]
     },
     "execution_count": 10,
     "metadata": {},
     "output_type": "execute_result"
    }
   ],
   "source": [
    "# menunjukkan nilai feature kategorical ('Timestamp'), nilai ini akan di proses untuk diambil year dan month untuk Clasification\n",
    "df['Timestamp'].describe(include=object).T"
   ]
  },
  {
   "cell_type": "code",
   "execution_count": 11,
   "id": "274dc3c5",
   "metadata": {},
   "outputs": [
    {
     "name": "stdout",
     "output_type": "stream",
     "text": [
      "tanggal terlama : 1/1/2016 15:14\n",
      "tanggal terbaru : 7/9/2016 16:23\n"
     ]
    }
   ],
   "source": [
    "# menunjukkan nilai kapan data terlama dan terbaru\n",
    "print('tanggal terlama :',df['Timestamp'].min())\n",
    "print('tanggal terbaru :',df['Timestamp'].max())"
   ]
  },
  {
   "cell_type": "code",
   "execution_count": 12,
   "id": "be99e183",
   "metadata": {},
   "outputs": [
    {
     "data": {
      "text/plain": [
       "<AxesSubplot:xlabel='Clicked on Ad', ylabel='count'>"
      ]
     },
     "execution_count": 12,
     "metadata": {},
     "output_type": "execute_result"
    },
    {
     "data": {
      "image/png": "[encoded data removed]",
      "text/plain": [
       "<Figure size 432x288 with 1 Axes>"
      ]
     },
     "metadata": {
      "needs_background": "light"
     },
     "output_type": "display_data"
    }
   ],
   "source": [
    "sns.countplot(x=df['Clicked on Ad'])"
   ]
  },
  {
   "cell_type": "markdown",
   "id": "cd227a65",
   "metadata": {},
   "source": [
    "* Untuk feature kategorikal yang akan digunakan pada project ini yaitu Click on Ad dimana ini menentukan apakah iklan yang ada di website di klik atau tidak, dari plot terlihat bahwa nilai dari yes dan no sama 500\n",
    "* Untuk timestamp yang menunjukkan kapan website dikunjungi yang data diambil dari 1/1/2016 hingga 7/9/2016"
   ]
  },
  {
   "cell_type": "markdown",
   "id": "5a4dfd10",
   "metadata": {},
   "source": [
    "# Bifariate Analisis "
   ]
  },
  {
   "cell_type": "markdown",
   "id": "b089872d",
   "metadata": {},
   "source": [
    "Feature-feature yang dipilih dilahaita hubungan antar featurenya dengan plot corelasi(heatmap) dan scater plot"
   ]
  },
  {
   "cell_type": "code",
   "execution_count": 13,
   "id": "fbd511c0",
   "metadata": {},
   "outputs": [
    {
     "data": {
      "text/plain": [
       "<AxesSubplot:>"
      ]
     },
     "execution_count": 13,
     "metadata": {},
     "output_type": "execute_result"
    },
    {
     "data": {
      "image/png": "[encoded data removed]",
      "text/plain": [
       "<Figure size 576x576 with 2 Axes>"
      ]
     },
     "metadata": {
      "needs_background": "light"
     },
     "output_type": "display_data"
    }
   ],
   "source": [
    "# correlation heatmap\n",
    "plt.figure(figsize=(8, 8))\n",
    "sns.heatmap(df[nums].corr(), cmap='Blues', annot=True, fmt='.2f')"
   ]
  },
  {
   "cell_type": "markdown",
   "id": "f70c6e6a",
   "metadata": {},
   "source": [
    "Dapat dilihat bahwa hubungan corelasi untuk feature numerikal Daily Time Spent on Site dan Daily Internet Usage memiliki tingkat corelasi tertinggi yaitu 0.52 yang berarti kedua feture tersebut saling berhubungan kuat"
   ]
  },
  {
   "cell_type": "code",
   "execution_count": 14,
   "id": "240280eb",
   "metadata": {},
   "outputs": [
    {
     "data": {
      "text/plain": [
       "<seaborn.axisgrid.PairGrid at 0x1d5b61d07c0>"
      ]
     },
     "execution_count": 14,
     "metadata": {},
     "output_type": "execute_result"
    },
    {
     "data": {
      "text/plain": [
       "<Figure size 1080x1080 with 0 Axes>"
      ]
     },
     "metadata": {},
     "output_type": "display_data"
    },
    {
     "data": {
      "image/png": "[encoded data removed]",
      "text/plain": [
       "<Figure size 540x540 with 12 Axes>"
      ]
     },
     "metadata": {
      "needs_background": "light"
     },
     "output_type": "display_data"
    }
   ],
   "source": [
    "# di sini kita juga hanya menggunakan sample dari full dataset\n",
    "plt.figure(figsize=(15, 15))\n",
    "sns.pairplot(df[nums], diag_kind='kde')"
   ]
  },
  {
   "cell_type": "markdown",
   "id": "ea450d22",
   "metadata": {},
   "source": [
    "Pada scater plot dapat dilihat bahwa distribusi dari setiap feature cendering normal hanya Age sedikit positif skewed"
   ]
  },
  {
   "cell_type": "markdown",
   "id": "bc08ac69",
   "metadata": {},
   "source": [
    "# Multivariate Analisis"
   ]
  },
  {
   "cell_type": "code",
   "execution_count": 15,
   "id": "3b4bb6d4",
   "metadata": {},
   "outputs": [
    {
     "data": {
      "image/png": "[encoded data removed]",
      "text/plain": [
       "<Figure size 435.75x360 with 1 Axes>"
      ]
     },
     "metadata": {
      "needs_background": "light"
     },
     "output_type": "display_data"
    }
   ],
   "source": [
    "sns.relplot(x =\"Daily Time Spent on Site\", y =\"Daily Internet Usage\", hue =\"Clicked on Ad\", data = df);"
   ]
  },
  {
   "cell_type": "markdown",
   "id": "6922fe49",
   "metadata": {},
   "source": [
    "Plot diatas merupakan plot dari feature dengan corelasi tertinggi yaitu Daily Time Spent on Site, Daily Internet Usage dengan feature Clicked on Ad, yang dapat dianalisis sebagai berikut:\n",
    "* pada plot bahwa kebanyakan dari customer yang clik on AD Yes nilai Daily Time Spent on Site, Daily Internet Usage tidak terlalu tinggi \n",
    "* sedangkan nilai No berada pada Daily Time Spent on Site, Daily Internet Usage yang tinggi "
   ]
  },
  {
   "cell_type": "markdown",
   "id": "09b26300",
   "metadata": {},
   "source": [
    "# Cleaning Data"
   ]
  },
  {
   "cell_type": "markdown",
   "id": "c8edc6e7",
   "metadata": {},
   "source": [
    "Setelah menganalisis dan menentukan feature yang akan digunakna maka feature yang akan digunakan tersebut di cleanning agar hasil dari clasifikasi optimal"
   ]
  },
  {
   "cell_type": "code",
   "execution_count": 16,
   "id": "58260de3",
   "metadata": {},
   "outputs": [
    {
     "data": {
      "text/html": [
       "<div>\n",
       "<style scoped>\n",
       "    .dataframe tbody tr th:only-of-type {\n",
       "        vertical-align: middle;\n",
       "    }\n",
       "\n",
       "    .dataframe tbody tr th {\n",
       "        vertical-align: top;\n",
       "    }\n",
       "\n",
       "    .dataframe thead th {\n",
       "        text-align: right;\n",
       "    }\n",
       "</style>\n",
       "<table border=\"1\" class=\"dataframe\">\n",
       "  <thead>\n",
       "    <tr style=\"text-align: right;\">\n",
       "      <th></th>\n",
       "      <th>Age</th>\n",
       "      <th>Daily Time Spent on Site</th>\n",
       "      <th>Daily Internet Usage</th>\n",
       "      <th>Timestamp</th>\n",
       "      <th>Clicked on Ad</th>\n",
       "    </tr>\n",
       "  </thead>\n",
       "  <tbody>\n",
       "    <tr>\n",
       "      <th>752</th>\n",
       "      <td>28</td>\n",
       "      <td>70.61</td>\n",
       "      <td>190.12</td>\n",
       "      <td>4/16/2016 5:24</td>\n",
       "      <td>No</td>\n",
       "    </tr>\n",
       "    <tr>\n",
       "      <th>562</th>\n",
       "      <td>44</td>\n",
       "      <td>59.52</td>\n",
       "      <td>251.08</td>\n",
       "      <td>5/27/2016 18:45</td>\n",
       "      <td>No</td>\n",
       "    </tr>\n",
       "    <tr>\n",
       "      <th>17</th>\n",
       "      <td>41</td>\n",
       "      <td>82.03</td>\n",
       "      <td>187.53</td>\n",
       "      <td>5/2/2016 7:00</td>\n",
       "      <td>No</td>\n",
       "    </tr>\n",
       "    <tr>\n",
       "      <th>502</th>\n",
       "      <td>26</td>\n",
       "      <td>66.17</td>\n",
       "      <td>228.70</td>\n",
       "      <td>5/2/2016 0:01</td>\n",
       "      <td>No</td>\n",
       "    </tr>\n",
       "    <tr>\n",
       "      <th>605</th>\n",
       "      <td>51</td>\n",
       "      <td>64.67</td>\n",
       "      <td>138.35</td>\n",
       "      <td>2/14/2016 16:33</td>\n",
       "      <td>Yes</td>\n",
       "    </tr>\n",
       "    <tr>\n",
       "      <th>563</th>\n",
       "      <td>37</td>\n",
       "      <td>62.26</td>\n",
       "      <td>166.19</td>\n",
       "      <td>5/26/2016 15:40</td>\n",
       "      <td>No</td>\n",
       "    </tr>\n",
       "    <tr>\n",
       "      <th>441</th>\n",
       "      <td>35</td>\n",
       "      <td>79.40</td>\n",
       "      <td>236.87</td>\n",
       "      <td>4/1/2016 9:21</td>\n",
       "      <td>No</td>\n",
       "    </tr>\n",
       "    <tr>\n",
       "      <th>96</th>\n",
       "      <td>36</td>\n",
       "      <td>45.72</td>\n",
       "      <td>154.02</td>\n",
       "      <td>4/19/2016 15:14</td>\n",
       "      <td>Yes</td>\n",
       "    </tr>\n",
       "    <tr>\n",
       "      <th>113</th>\n",
       "      <td>46</td>\n",
       "      <td>46.13</td>\n",
       "      <td>123.64</td>\n",
       "      <td>1/9/2016 5:44</td>\n",
       "      <td>Yes</td>\n",
       "    </tr>\n",
       "    <tr>\n",
       "      <th>180</th>\n",
       "      <td>38</td>\n",
       "      <td>39.85</td>\n",
       "      <td>145.96</td>\n",
       "      <td>1/3/2016 3:22</td>\n",
       "      <td>Yes</td>\n",
       "    </tr>\n",
       "  </tbody>\n",
       "</table>\n",
       "</div>"
      ],
      "text/plain": [
       "     Age  Daily Time Spent on Site  Daily Internet Usage        Timestamp  \\\n",
       "752   28                     70.61                190.12   4/16/2016 5:24   \n",
       "562   44                     59.52                251.08  5/27/2016 18:45   \n",
       "17    41                     82.03                187.53    5/2/2016 7:00   \n",
       "502   26                     66.17                228.70    5/2/2016 0:01   \n",
       "605   51                     64.67                138.35  2/14/2016 16:33   \n",
       "563   37                     62.26                166.19  5/26/2016 15:40   \n",
       "441   35                     79.40                236.87    4/1/2016 9:21   \n",
       "96    36                     45.72                154.02  4/19/2016 15:14   \n",
       "113   46                     46.13                123.64    1/9/2016 5:44   \n",
       "180   38                     39.85                145.96    1/3/2016 3:22   \n",
       "\n",
       "    Clicked on Ad  \n",
       "752            No  \n",
       "562            No  \n",
       "17             No  \n",
       "502            No  \n",
       "605           Yes  \n",
       "563            No  \n",
       "441            No  \n",
       "96            Yes  \n",
       "113           Yes  \n",
       "180           Yes  "
      ]
     },
     "execution_count": 16,
     "metadata": {},
     "output_type": "execute_result"
    }
   ],
   "source": [
    "df_use = df[used]\n",
    "df_use.sample(10)"
   ]
  },
  {
   "cell_type": "markdown",
   "id": "0f67b5b0",
   "metadata": {},
   "source": [
    "## Data missing"
   ]
  },
  {
   "cell_type": "code",
   "execution_count": 17,
   "id": "368bbee5",
   "metadata": {},
   "outputs": [
    {
     "name": "stdout",
     "output_type": "stream",
     "text": [
      "<class 'pandas.core.frame.DataFrame'>\n",
      "RangeIndex: 1000 entries, 0 to 999\n",
      "Data columns (total 5 columns):\n",
      " #   Column                    Non-Null Count  Dtype  \n",
      "---  ------                    --------------  -----  \n",
      " 0   Age                       1000 non-null   int64  \n",
      " 1   Daily Time Spent on Site  987 non-null    float64\n",
      " 2   Daily Internet Usage      989 non-null    float64\n",
      " 3   Timestamp                 1000 non-null   object \n",
      " 4   Clicked on Ad             1000 non-null   object \n",
      "dtypes: float64(2), int64(1), object(2)\n",
      "memory usage: 39.2+ KB\n"
     ]
    }
   ],
   "source": [
    "df_use.info()"
   ]
  },
  {
   "cell_type": "code",
   "execution_count": 18,
   "id": "023e7003",
   "metadata": {},
   "outputs": [
    {
     "data": {
      "text/plain": [
       "Age                          0\n",
       "Daily Time Spent on Site    13\n",
       "Daily Internet Usage        11\n",
       "Timestamp                    0\n",
       "Clicked on Ad                0\n",
       "dtype: int64"
      ]
     },
     "execution_count": 18,
     "metadata": {},
     "output_type": "execute_result"
    }
   ],
   "source": [
    "# Memeriksa apakah ada data Null\n",
    "df_use.isna().sum()"
   ]
  },
  {
   "cell_type": "code",
   "execution_count": 19,
   "id": "afe921c3",
   "metadata": {},
   "outputs": [
    {
     "name": "stderr",
     "output_type": "stream",
     "text": [
      "C:\\ProgramData\\Anaconda3\\lib\\site-packages\\pandas\\core\\generic.py:6392: SettingWithCopyWarning: \n",
      "A value is trying to be set on a copy of a slice from a DataFrame\n",
      "\n",
      "See the caveats in the documentation: https://pandas.pydata.org/pandas-docs/stable/user_guide/indexing.html#returning-a-view-versus-a-copy\n",
      "  return self._update_inplace(result)\n"
     ]
    },
    {
     "data": {
      "text/plain": [
       "Age                         0\n",
       "Daily Time Spent on Site    0\n",
       "Daily Internet Usage        0\n",
       "Timestamp                   0\n",
       "Clicked on Ad               0\n",
       "dtype: int64"
      ]
     },
     "execution_count": 19,
     "metadata": {},
     "output_type": "execute_result"
    }
   ],
   "source": [
    "# mengisi nilia null dengan nilai modus yaitu nilai tengah agar distribusi tetap\n",
    "df_use['Daily Time Spent on Site'].fillna(df_use['Daily Time Spent on Site'].mode()[0],inplace=True)\n",
    "df_use['Daily Internet Usage'].fillna(df_use['Daily Internet Usage'].mode()[0],inplace=True)\n",
    "df_use.isna().sum()"
   ]
  },
  {
   "cell_type": "markdown",
   "id": "4c6be565",
   "metadata": {},
   "source": [
    "Data missing pada feature Daily Time Spent on Site dan Daily Internet Usage, diisi dengan nilai modus agar nilai distribusi tidak berubah "
   ]
  },
  {
   "cell_type": "markdown",
   "id": "2428658f",
   "metadata": {},
   "source": [
    "## Data Duplikat"
   ]
  },
  {
   "cell_type": "code",
   "execution_count": 20,
   "id": "f4fd2844",
   "metadata": {},
   "outputs": [
    {
     "data": {
      "text/plain": [
       "False"
      ]
     },
     "execution_count": 20,
     "metadata": {},
     "output_type": "execute_result"
    }
   ],
   "source": [
    "# Memeriksa apakah terdapat data yang duplikat karena hasil false maka tidak terdapat data yang duplikat\n",
    "df_use.duplicated().any()"
   ]
  },
  {
   "cell_type": "code",
   "execution_count": 21,
   "id": "94802e20",
   "metadata": {},
   "outputs": [
    {
     "data": {
      "text/plain": [
       "0"
      ]
     },
     "execution_count": 21,
     "metadata": {},
     "output_type": "execute_result"
    }
   ],
   "source": [
    "# Memeriksa jumlah data duplikat\n",
    "df_use.duplicated().sum()"
   ]
  },
  {
   "cell_type": "markdown",
   "id": "1f943159",
   "metadata": {},
   "source": [
    "tidak ada data duplikat pada data ini "
   ]
  },
  {
   "cell_type": "markdown",
   "id": "27b8c90a",
   "metadata": {},
   "source": [
    "## Feature Engineering "
   ]
  },
  {
   "cell_type": "markdown",
   "id": "49e22b06",
   "metadata": {},
   "source": [
    "### Extract date time data "
   ]
  },
  {
   "cell_type": "code",
   "execution_count": 22,
   "id": "98c89cd1",
   "metadata": {},
   "outputs": [],
   "source": [
    "df_eng = df_use.copy()"
   ]
  },
  {
   "cell_type": "code",
   "execution_count": 23,
   "id": "27dd5b9b",
   "metadata": {},
   "outputs": [
    {
     "data": {
      "text/html": [
       "<div>\n",
       "<style scoped>\n",
       "    .dataframe tbody tr th:only-of-type {\n",
       "        vertical-align: middle;\n",
       "    }\n",
       "\n",
       "    .dataframe tbody tr th {\n",
       "        vertical-align: top;\n",
       "    }\n",
       "\n",
       "    .dataframe thead th {\n",
       "        text-align: right;\n",
       "    }\n",
       "</style>\n",
       "<table border=\"1\" class=\"dataframe\">\n",
       "  <thead>\n",
       "    <tr style=\"text-align: right;\">\n",
       "      <th></th>\n",
       "      <th>Age</th>\n",
       "      <th>Daily Time Spent on Site</th>\n",
       "      <th>Daily Internet Usage</th>\n",
       "      <th>Timestamp</th>\n",
       "      <th>Clicked on Ad</th>\n",
       "    </tr>\n",
       "  </thead>\n",
       "  <tbody>\n",
       "    <tr>\n",
       "      <th>0</th>\n",
       "      <td>35</td>\n",
       "      <td>68.95</td>\n",
       "      <td>256.09</td>\n",
       "      <td>3/27/2016 0:53</td>\n",
       "      <td>No</td>\n",
       "    </tr>\n",
       "    <tr>\n",
       "      <th>1</th>\n",
       "      <td>31</td>\n",
       "      <td>80.23</td>\n",
       "      <td>193.77</td>\n",
       "      <td>4/4/2016 1:39</td>\n",
       "      <td>No</td>\n",
       "    </tr>\n",
       "    <tr>\n",
       "      <th>2</th>\n",
       "      <td>26</td>\n",
       "      <td>69.47</td>\n",
       "      <td>236.50</td>\n",
       "      <td>3/13/2016 20:35</td>\n",
       "      <td>No</td>\n",
       "    </tr>\n",
       "    <tr>\n",
       "      <th>3</th>\n",
       "      <td>29</td>\n",
       "      <td>74.15</td>\n",
       "      <td>245.89</td>\n",
       "      <td>1/10/2016 2:31</td>\n",
       "      <td>No</td>\n",
       "    </tr>\n",
       "    <tr>\n",
       "      <th>4</th>\n",
       "      <td>35</td>\n",
       "      <td>68.37</td>\n",
       "      <td>225.58</td>\n",
       "      <td>6/3/2016 3:36</td>\n",
       "      <td>No</td>\n",
       "    </tr>\n",
       "  </tbody>\n",
       "</table>\n",
       "</div>"
      ],
      "text/plain": [
       "   Age  Daily Time Spent on Site  Daily Internet Usage        Timestamp  \\\n",
       "0   35                     68.95                256.09   3/27/2016 0:53   \n",
       "1   31                     80.23                193.77    4/4/2016 1:39   \n",
       "2   26                     69.47                236.50  3/13/2016 20:35   \n",
       "3   29                     74.15                245.89   1/10/2016 2:31   \n",
       "4   35                     68.37                225.58    6/3/2016 3:36   \n",
       "\n",
       "  Clicked on Ad  \n",
       "0            No  \n",
       "1            No  \n",
       "2            No  \n",
       "3            No  \n",
       "4            No  "
      ]
     },
     "execution_count": 23,
     "metadata": {},
     "output_type": "execute_result"
    }
   ],
   "source": [
    "df_eng['Timestamp'] = df_eng['Timestamp'].astype(str) \n",
    "df_eng.head()"
   ]
  },
  {
   "cell_type": "code",
   "execution_count": 24,
   "id": "f37361ab",
   "metadata": {},
   "outputs": [],
   "source": [
    "# Extract day, month and hour\n",
    "df_eng['date'] = df_eng['Timestamp'].str.split(' ').str[0]\n",
    "df_eng['time'] = df_eng['Timestamp'].str.split(' ').str[1]\n",
    "df_eng['days'] = df_eng['date'].str.partition(\"/\")[2]\n",
    "\n",
    "df_eng['day'] = df_eng['days'].str.partition(\"/\")[0]\n",
    "df_eng['month'] = df_eng['date'].str.partition(\"/\")[0]\n",
    "df_eng['hour'] = df_eng['time'].str.partition(\":\")[0]"
   ]
  },
  {
   "cell_type": "code",
   "execution_count": 25,
   "id": "4275b531",
   "metadata": {},
   "outputs": [],
   "source": [
    "# Pengubahan nilai dari day, hour dan monyh agar lebih mudah untk diproses pada machine learning\n",
    "df_eng['day'] = df_eng['day'].astype(np.int64)\n",
    "df_eng['hour'] = df_eng['hour'].astype(np.int64)\n",
    "\n",
    "\n",
    "df_eng['day_group_in_months'] = np.select([(df_eng['day'] <= 10),\n",
    "                                (df_eng['day'] > 10) & (df_eng['day'] <= 20),\n",
    "                                (df_eng['day'] > 20)],\n",
    "                               ['awal bulan','pertengahan bulan','akhir bulan'])\n",
    "\n",
    "df_eng['months'] = np.select([(df_eng['month'] == '1'),\n",
    "                              (df_eng['month'] == '2'),\n",
    "                              (df_eng['month'] == '3'),\n",
    "                              (df_eng['month'] == '4'),\n",
    "                              (df_eng['month'] == '5'),\n",
    "                              (df_eng['month'] == '6'),\n",
    "                              (df_eng['month'] == '7'),\n",
    "                              (df_eng['month'] == '8'),\n",
    "                              (df_eng['month'] == '9'),\n",
    "                              (df_eng['month'] == '10'),\n",
    "                              (df_eng['month'] == '11'),\n",
    "                              (df_eng['month'] == '12')],\n",
    "                              ['January','February','March','April','May','June','July','August','September','October','November','December'])\n",
    "\n",
    "df_eng['hours_group_in_days'] = np.select([(df_eng['hour'] <= 5),\n",
    "                                (df_eng['hour'] > 5) & (df_eng['hour'] <= 11),\n",
    "                                (df_eng['hour'] > 11) & (df_eng['hour'] <= 17),\n",
    "                                (df_eng['hour'] > 17) ],\n",
    "                               ['dini hari','pagi hari','siang hari','malam hari'])"
   ]
  },
  {
   "cell_type": "code",
   "execution_count": 26,
   "id": "98794681",
   "metadata": {},
   "outputs": [],
   "source": [
    "df_eng['Clicked on Ad'] = np.where(df_eng['Clicked on Ad'] != 'No', 1, 0)"
   ]
  },
  {
   "cell_type": "code",
   "execution_count": 27,
   "id": "f908ea14",
   "metadata": {},
   "outputs": [
    {
     "data": {
      "text/html": [
       "<div>\n",
       "<style scoped>\n",
       "    .dataframe tbody tr th:only-of-type {\n",
       "        vertical-align: middle;\n",
       "    }\n",
       "\n",
       "    .dataframe tbody tr th {\n",
       "        vertical-align: top;\n",
       "    }\n",
       "\n",
       "    .dataframe thead th {\n",
       "        text-align: right;\n",
       "    }\n",
       "</style>\n",
       "<table border=\"1\" class=\"dataframe\">\n",
       "  <thead>\n",
       "    <tr style=\"text-align: right;\">\n",
       "      <th></th>\n",
       "      <th>Age</th>\n",
       "      <th>Daily Time Spent on Site</th>\n",
       "      <th>Daily Internet Usage</th>\n",
       "      <th>Timestamp</th>\n",
       "      <th>Clicked on Ad</th>\n",
       "      <th>date</th>\n",
       "      <th>time</th>\n",
       "      <th>days</th>\n",
       "      <th>day</th>\n",
       "      <th>month</th>\n",
       "      <th>hour</th>\n",
       "      <th>day_group_in_months</th>\n",
       "      <th>months</th>\n",
       "      <th>hours_group_in_days</th>\n",
       "    </tr>\n",
       "  </thead>\n",
       "  <tbody>\n",
       "    <tr>\n",
       "      <th>0</th>\n",
       "      <td>35</td>\n",
       "      <td>68.95</td>\n",
       "      <td>256.09</td>\n",
       "      <td>3/27/2016 0:53</td>\n",
       "      <td>0</td>\n",
       "      <td>3/27/2016</td>\n",
       "      <td>0:53</td>\n",
       "      <td>27/2016</td>\n",
       "      <td>27</td>\n",
       "      <td>3</td>\n",
       "      <td>0</td>\n",
       "      <td>akhir bulan</td>\n",
       "      <td>March</td>\n",
       "      <td>dini hari</td>\n",
       "    </tr>\n",
       "    <tr>\n",
       "      <th>1</th>\n",
       "      <td>31</td>\n",
       "      <td>80.23</td>\n",
       "      <td>193.77</td>\n",
       "      <td>4/4/2016 1:39</td>\n",
       "      <td>0</td>\n",
       "      <td>4/4/2016</td>\n",
       "      <td>1:39</td>\n",
       "      <td>4/2016</td>\n",
       "      <td>4</td>\n",
       "      <td>4</td>\n",
       "      <td>1</td>\n",
       "      <td>awal bulan</td>\n",
       "      <td>April</td>\n",
       "      <td>dini hari</td>\n",
       "    </tr>\n",
       "    <tr>\n",
       "      <th>2</th>\n",
       "      <td>26</td>\n",
       "      <td>69.47</td>\n",
       "      <td>236.50</td>\n",
       "      <td>3/13/2016 20:35</td>\n",
       "      <td>0</td>\n",
       "      <td>3/13/2016</td>\n",
       "      <td>20:35</td>\n",
       "      <td>13/2016</td>\n",
       "      <td>13</td>\n",
       "      <td>3</td>\n",
       "      <td>20</td>\n",
       "      <td>pertengahan bulan</td>\n",
       "      <td>March</td>\n",
       "      <td>malam hari</td>\n",
       "    </tr>\n",
       "    <tr>\n",
       "      <th>3</th>\n",
       "      <td>29</td>\n",
       "      <td>74.15</td>\n",
       "      <td>245.89</td>\n",
       "      <td>1/10/2016 2:31</td>\n",
       "      <td>0</td>\n",
       "      <td>1/10/2016</td>\n",
       "      <td>2:31</td>\n",
       "      <td>10/2016</td>\n",
       "      <td>10</td>\n",
       "      <td>1</td>\n",
       "      <td>2</td>\n",
       "      <td>awal bulan</td>\n",
       "      <td>January</td>\n",
       "      <td>dini hari</td>\n",
       "    </tr>\n",
       "    <tr>\n",
       "      <th>4</th>\n",
       "      <td>35</td>\n",
       "      <td>68.37</td>\n",
       "      <td>225.58</td>\n",
       "      <td>6/3/2016 3:36</td>\n",
       "      <td>0</td>\n",
       "      <td>6/3/2016</td>\n",
       "      <td>3:36</td>\n",
       "      <td>3/2016</td>\n",
       "      <td>3</td>\n",
       "      <td>6</td>\n",
       "      <td>3</td>\n",
       "      <td>awal bulan</td>\n",
       "      <td>June</td>\n",
       "      <td>dini hari</td>\n",
       "    </tr>\n",
       "  </tbody>\n",
       "</table>\n",
       "</div>"
      ],
      "text/plain": [
       "   Age  Daily Time Spent on Site  Daily Internet Usage        Timestamp  \\\n",
       "0   35                     68.95                256.09   3/27/2016 0:53   \n",
       "1   31                     80.23                193.77    4/4/2016 1:39   \n",
       "2   26                     69.47                236.50  3/13/2016 20:35   \n",
       "3   29                     74.15                245.89   1/10/2016 2:31   \n",
       "4   35                     68.37                225.58    6/3/2016 3:36   \n",
       "\n",
       "   Clicked on Ad       date   time     days  day month  hour  \\\n",
       "0              0  3/27/2016   0:53  27/2016   27     3     0   \n",
       "1              0   4/4/2016   1:39   4/2016    4     4     1   \n",
       "2              0  3/13/2016  20:35  13/2016   13     3    20   \n",
       "3              0  1/10/2016   2:31  10/2016   10     1     2   \n",
       "4              0   6/3/2016   3:36   3/2016    3     6     3   \n",
       "\n",
       "  day_group_in_months   months hours_group_in_days  \n",
       "0         akhir bulan    March           dini hari  \n",
       "1          awal bulan    April           dini hari  \n",
       "2   pertengahan bulan    March          malam hari  \n",
       "3          awal bulan  January           dini hari  \n",
       "4          awal bulan     June           dini hari  "
      ]
     },
     "execution_count": 27,
     "metadata": {},
     "output_type": "execute_result"
    }
   ],
   "source": [
    "df_eng.head()"
   ]
  },
  {
   "cell_type": "code",
   "execution_count": 28,
   "id": "7afac5c1",
   "metadata": {},
   "outputs": [],
   "source": [
    "df_enc = df_eng.drop(['Timestamp', 'date', 'time','days', 'day', 'month', 'hour' ],axis=1)"
   ]
  },
  {
   "cell_type": "markdown",
   "id": "ea9de511",
   "metadata": {},
   "source": [
    "Proses Feature enggineering untuk mengubah format data tanggal  'Timestamp' ke kategorical yang lebih mudah diproses, dan juga mengubah data Clicked on Ad agar berbentuk integer boolean"
   ]
  },
  {
   "cell_type": "markdown",
   "id": "29337b12",
   "metadata": {},
   "source": [
    "## Feature Encoding"
   ]
  },
  {
   "cell_type": "code",
   "execution_count": 29,
   "id": "9efc3a20",
   "metadata": {},
   "outputs": [],
   "source": [
    "# Feature encode seluruh tipe kategorical,\n",
    "df_onehot = df_enc.copy()\n",
    "for cat in ['day_group_in_months', 'months', 'hours_group_in_days']:\n",
    "    onehots = pd.get_dummies(df_onehot[cat], prefix=cat)\n",
    "    df_onehot = df_onehot.join(onehots)"
   ]
  },
  {
   "cell_type": "code",
   "execution_count": 30,
   "id": "722c0a0b",
   "metadata": {},
   "outputs": [
    {
     "data": {
      "text/html": [
       "<div>\n",
       "<style scoped>\n",
       "    .dataframe tbody tr th:only-of-type {\n",
       "        vertical-align: middle;\n",
       "    }\n",
       "\n",
       "    .dataframe tbody tr th {\n",
       "        vertical-align: top;\n",
       "    }\n",
       "\n",
       "    .dataframe thead th {\n",
       "        text-align: right;\n",
       "    }\n",
       "</style>\n",
       "<table border=\"1\" class=\"dataframe\">\n",
       "  <thead>\n",
       "    <tr style=\"text-align: right;\">\n",
       "      <th></th>\n",
       "      <th>Age</th>\n",
       "      <th>Daily Time Spent on Site</th>\n",
       "      <th>Daily Internet Usage</th>\n",
       "      <th>Clicked on Ad</th>\n",
       "      <th>day_group_in_months_akhir bulan</th>\n",
       "      <th>day_group_in_months_awal bulan</th>\n",
       "      <th>day_group_in_months_pertengahan bulan</th>\n",
       "      <th>months_April</th>\n",
       "      <th>months_February</th>\n",
       "      <th>months_January</th>\n",
       "      <th>months_July</th>\n",
       "      <th>months_June</th>\n",
       "      <th>months_March</th>\n",
       "      <th>months_May</th>\n",
       "      <th>hours_group_in_days_dini hari</th>\n",
       "      <th>hours_group_in_days_malam hari</th>\n",
       "      <th>hours_group_in_days_pagi hari</th>\n",
       "      <th>hours_group_in_days_siang hari</th>\n",
       "    </tr>\n",
       "  </thead>\n",
       "  <tbody>\n",
       "    <tr>\n",
       "      <th>340</th>\n",
       "      <td>47</td>\n",
       "      <td>36.31</td>\n",
       "      <td>168.92</td>\n",
       "      <td>1</td>\n",
       "      <td>0</td>\n",
       "      <td>0</td>\n",
       "      <td>1</td>\n",
       "      <td>1</td>\n",
       "      <td>0</td>\n",
       "      <td>0</td>\n",
       "      <td>0</td>\n",
       "      <td>0</td>\n",
       "      <td>0</td>\n",
       "      <td>0</td>\n",
       "      <td>1</td>\n",
       "      <td>0</td>\n",
       "      <td>0</td>\n",
       "      <td>0</td>\n",
       "    </tr>\n",
       "    <tr>\n",
       "      <th>777</th>\n",
       "      <td>30</td>\n",
       "      <td>72.18</td>\n",
       "      <td>225.02</td>\n",
       "      <td>0</td>\n",
       "      <td>0</td>\n",
       "      <td>1</td>\n",
       "      <td>0</td>\n",
       "      <td>0</td>\n",
       "      <td>0</td>\n",
       "      <td>0</td>\n",
       "      <td>0</td>\n",
       "      <td>1</td>\n",
       "      <td>0</td>\n",
       "      <td>0</td>\n",
       "      <td>0</td>\n",
       "      <td>1</td>\n",
       "      <td>0</td>\n",
       "      <td>0</td>\n",
       "    </tr>\n",
       "    <tr>\n",
       "      <th>748</th>\n",
       "      <td>58</td>\n",
       "      <td>45.11</td>\n",
       "      <td>195.69</td>\n",
       "      <td>1</td>\n",
       "      <td>0</td>\n",
       "      <td>1</td>\n",
       "      <td>0</td>\n",
       "      <td>0</td>\n",
       "      <td>0</td>\n",
       "      <td>1</td>\n",
       "      <td>0</td>\n",
       "      <td>0</td>\n",
       "      <td>0</td>\n",
       "      <td>0</td>\n",
       "      <td>0</td>\n",
       "      <td>0</td>\n",
       "      <td>0</td>\n",
       "      <td>1</td>\n",
       "    </tr>\n",
       "    <tr>\n",
       "      <th>324</th>\n",
       "      <td>41</td>\n",
       "      <td>84.33</td>\n",
       "      <td>240.95</td>\n",
       "      <td>0</td>\n",
       "      <td>0</td>\n",
       "      <td>0</td>\n",
       "      <td>1</td>\n",
       "      <td>0</td>\n",
       "      <td>0</td>\n",
       "      <td>0</td>\n",
       "      <td>0</td>\n",
       "      <td>0</td>\n",
       "      <td>1</td>\n",
       "      <td>0</td>\n",
       "      <td>1</td>\n",
       "      <td>0</td>\n",
       "      <td>0</td>\n",
       "      <td>0</td>\n",
       "    </tr>\n",
       "    <tr>\n",
       "      <th>673</th>\n",
       "      <td>55</td>\n",
       "      <td>49.96</td>\n",
       "      <td>151.94</td>\n",
       "      <td>1</td>\n",
       "      <td>0</td>\n",
       "      <td>1</td>\n",
       "      <td>0</td>\n",
       "      <td>1</td>\n",
       "      <td>0</td>\n",
       "      <td>0</td>\n",
       "      <td>0</td>\n",
       "      <td>0</td>\n",
       "      <td>0</td>\n",
       "      <td>0</td>\n",
       "      <td>1</td>\n",
       "      <td>0</td>\n",
       "      <td>0</td>\n",
       "      <td>0</td>\n",
       "    </tr>\n",
       "    <tr>\n",
       "      <th>597</th>\n",
       "      <td>37</td>\n",
       "      <td>74.84</td>\n",
       "      <td>246.44</td>\n",
       "      <td>0</td>\n",
       "      <td>0</td>\n",
       "      <td>0</td>\n",
       "      <td>1</td>\n",
       "      <td>0</td>\n",
       "      <td>0</td>\n",
       "      <td>1</td>\n",
       "      <td>0</td>\n",
       "      <td>0</td>\n",
       "      <td>0</td>\n",
       "      <td>0</td>\n",
       "      <td>0</td>\n",
       "      <td>0</td>\n",
       "      <td>0</td>\n",
       "      <td>1</td>\n",
       "    </tr>\n",
       "    <tr>\n",
       "      <th>743</th>\n",
       "      <td>37</td>\n",
       "      <td>62.26</td>\n",
       "      <td>105.86</td>\n",
       "      <td>1</td>\n",
       "      <td>0</td>\n",
       "      <td>0</td>\n",
       "      <td>1</td>\n",
       "      <td>0</td>\n",
       "      <td>0</td>\n",
       "      <td>0</td>\n",
       "      <td>0</td>\n",
       "      <td>0</td>\n",
       "      <td>1</td>\n",
       "      <td>0</td>\n",
       "      <td>0</td>\n",
       "      <td>0</td>\n",
       "      <td>0</td>\n",
       "      <td>1</td>\n",
       "    </tr>\n",
       "    <tr>\n",
       "      <th>899</th>\n",
       "      <td>45</td>\n",
       "      <td>35.66</td>\n",
       "      <td>151.72</td>\n",
       "      <td>1</td>\n",
       "      <td>1</td>\n",
       "      <td>0</td>\n",
       "      <td>0</td>\n",
       "      <td>1</td>\n",
       "      <td>0</td>\n",
       "      <td>0</td>\n",
       "      <td>0</td>\n",
       "      <td>0</td>\n",
       "      <td>0</td>\n",
       "      <td>0</td>\n",
       "      <td>0</td>\n",
       "      <td>0</td>\n",
       "      <td>0</td>\n",
       "      <td>1</td>\n",
       "    </tr>\n",
       "    <tr>\n",
       "      <th>190</th>\n",
       "      <td>30</td>\n",
       "      <td>50.08</td>\n",
       "      <td>123.91</td>\n",
       "      <td>1</td>\n",
       "      <td>0</td>\n",
       "      <td>1</td>\n",
       "      <td>0</td>\n",
       "      <td>0</td>\n",
       "      <td>0</td>\n",
       "      <td>1</td>\n",
       "      <td>0</td>\n",
       "      <td>0</td>\n",
       "      <td>0</td>\n",
       "      <td>0</td>\n",
       "      <td>1</td>\n",
       "      <td>0</td>\n",
       "      <td>0</td>\n",
       "      <td>0</td>\n",
       "    </tr>\n",
       "    <tr>\n",
       "      <th>202</th>\n",
       "      <td>40</td>\n",
       "      <td>35.65</td>\n",
       "      <td>172.58</td>\n",
       "      <td>1</td>\n",
       "      <td>0</td>\n",
       "      <td>1</td>\n",
       "      <td>0</td>\n",
       "      <td>0</td>\n",
       "      <td>0</td>\n",
       "      <td>0</td>\n",
       "      <td>0</td>\n",
       "      <td>0</td>\n",
       "      <td>0</td>\n",
       "      <td>1</td>\n",
       "      <td>0</td>\n",
       "      <td>0</td>\n",
       "      <td>1</td>\n",
       "      <td>0</td>\n",
       "    </tr>\n",
       "  </tbody>\n",
       "</table>\n",
       "</div>"
      ],
      "text/plain": [
       "     Age  Daily Time Spent on Site  Daily Internet Usage  Clicked on Ad  \\\n",
       "340   47                     36.31                168.92              1   \n",
       "777   30                     72.18                225.02              0   \n",
       "748   58                     45.11                195.69              1   \n",
       "324   41                     84.33                240.95              0   \n",
       "673   55                     49.96                151.94              1   \n",
       "597   37                     74.84                246.44              0   \n",
       "743   37                     62.26                105.86              1   \n",
       "899   45                     35.66                151.72              1   \n",
       "190   30                     50.08                123.91              1   \n",
       "202   40                     35.65                172.58              1   \n",
       "\n",
       "     day_group_in_months_akhir bulan  day_group_in_months_awal bulan  \\\n",
       "340                                0                               0   \n",
       "777                                0                               1   \n",
       "748                                0                               1   \n",
       "324                                0                               0   \n",
       "673                                0                               1   \n",
       "597                                0                               0   \n",
       "743                                0                               0   \n",
       "899                                1                               0   \n",
       "190                                0                               1   \n",
       "202                                0                               1   \n",
       "\n",
       "     day_group_in_months_pertengahan bulan  months_April  months_February  \\\n",
       "340                                      1             1                0   \n",
       "777                                      0             0                0   \n",
       "748                                      0             0                0   \n",
       "324                                      1             0                0   \n",
       "673                                      0             1                0   \n",
       "597                                      1             0                0   \n",
       "743                                      1             0                0   \n",
       "899                                      0             1                0   \n",
       "190                                      0             0                0   \n",
       "202                                      0             0                0   \n",
       "\n",
       "     months_January  months_July  months_June  months_March  months_May  \\\n",
       "340               0            0            0             0           0   \n",
       "777               0            0            1             0           0   \n",
       "748               1            0            0             0           0   \n",
       "324               0            0            0             1           0   \n",
       "673               0            0            0             0           0   \n",
       "597               1            0            0             0           0   \n",
       "743               0            0            0             1           0   \n",
       "899               0            0            0             0           0   \n",
       "190               1            0            0             0           0   \n",
       "202               0            0            0             0           1   \n",
       "\n",
       "     hours_group_in_days_dini hari  hours_group_in_days_malam hari  \\\n",
       "340                              1                               0   \n",
       "777                              0                               1   \n",
       "748                              0                               0   \n",
       "324                              1                               0   \n",
       "673                              1                               0   \n",
       "597                              0                               0   \n",
       "743                              0                               0   \n",
       "899                              0                               0   \n",
       "190                              1                               0   \n",
       "202                              0                               0   \n",
       "\n",
       "     hours_group_in_days_pagi hari  hours_group_in_days_siang hari  \n",
       "340                              0                               0  \n",
       "777                              0                               0  \n",
       "748                              0                               1  \n",
       "324                              0                               0  \n",
       "673                              0                               0  \n",
       "597                              0                               1  \n",
       "743                              0                               1  \n",
       "899                              0                               1  \n",
       "190                              0                               0  \n",
       "202                              1                               0  "
      ]
     },
     "execution_count": 30,
     "metadata": {},
     "output_type": "execute_result"
    }
   ],
   "source": [
    "df_onehot = df_onehot.drop(['day_group_in_months', 'months', 'hours_group_in_days'],axis=1)\n",
    "df_onehot.sample(10)"
   ]
  },
  {
   "cell_type": "code",
   "execution_count": 31,
   "id": "5527749e",
   "metadata": {},
   "outputs": [
    {
     "data": {
      "text/html": [
       "<div>\n",
       "<style scoped>\n",
       "    .dataframe tbody tr th:only-of-type {\n",
       "        vertical-align: middle;\n",
       "    }\n",
       "\n",
       "    .dataframe tbody tr th {\n",
       "        vertical-align: top;\n",
       "    }\n",
       "\n",
       "    .dataframe thead th {\n",
       "        text-align: right;\n",
       "    }\n",
       "</style>\n",
       "<table border=\"1\" class=\"dataframe\">\n",
       "  <thead>\n",
       "    <tr style=\"text-align: right;\">\n",
       "      <th></th>\n",
       "      <th>count</th>\n",
       "      <th>mean</th>\n",
       "      <th>std</th>\n",
       "      <th>min</th>\n",
       "      <th>25%</th>\n",
       "      <th>50%</th>\n",
       "      <th>75%</th>\n",
       "      <th>max</th>\n",
       "    </tr>\n",
       "  </thead>\n",
       "  <tbody>\n",
       "    <tr>\n",
       "      <th>Age</th>\n",
       "      <td>1000.0</td>\n",
       "      <td>36.00900</td>\n",
       "      <td>8.785562</td>\n",
       "      <td>19.00</td>\n",
       "      <td>29.000</td>\n",
       "      <td>35.000</td>\n",
       "      <td>42.0000</td>\n",
       "      <td>61.00</td>\n",
       "    </tr>\n",
       "    <tr>\n",
       "      <th>Daily Time Spent on Site</th>\n",
       "      <td>1000.0</td>\n",
       "      <td>64.89482</td>\n",
       "      <td>15.744175</td>\n",
       "      <td>32.60</td>\n",
       "      <td>51.545</td>\n",
       "      <td>67.780</td>\n",
       "      <td>78.3525</td>\n",
       "      <td>91.43</td>\n",
       "    </tr>\n",
       "    <tr>\n",
       "      <th>Daily Internet Usage</th>\n",
       "      <td>1000.0</td>\n",
       "      <td>179.13395</td>\n",
       "      <td>44.173689</td>\n",
       "      <td>104.78</td>\n",
       "      <td>137.580</td>\n",
       "      <td>181.065</td>\n",
       "      <td>218.2875</td>\n",
       "      <td>267.01</td>\n",
       "    </tr>\n",
       "    <tr>\n",
       "      <th>Clicked on Ad</th>\n",
       "      <td>1000.0</td>\n",
       "      <td>0.50000</td>\n",
       "      <td>0.500250</td>\n",
       "      <td>0.00</td>\n",
       "      <td>0.000</td>\n",
       "      <td>0.500</td>\n",
       "      <td>1.0000</td>\n",
       "      <td>1.00</td>\n",
       "    </tr>\n",
       "    <tr>\n",
       "      <th>day_group_in_months_akhir bulan</th>\n",
       "      <td>1000.0</td>\n",
       "      <td>0.32300</td>\n",
       "      <td>0.467857</td>\n",
       "      <td>0.00</td>\n",
       "      <td>0.000</td>\n",
       "      <td>0.000</td>\n",
       "      <td>1.0000</td>\n",
       "      <td>1.00</td>\n",
       "    </tr>\n",
       "    <tr>\n",
       "      <th>day_group_in_months_awal bulan</th>\n",
       "      <td>1000.0</td>\n",
       "      <td>0.33800</td>\n",
       "      <td>0.473265</td>\n",
       "      <td>0.00</td>\n",
       "      <td>0.000</td>\n",
       "      <td>0.000</td>\n",
       "      <td>1.0000</td>\n",
       "      <td>1.00</td>\n",
       "    </tr>\n",
       "    <tr>\n",
       "      <th>day_group_in_months_pertengahan bulan</th>\n",
       "      <td>1000.0</td>\n",
       "      <td>0.33900</td>\n",
       "      <td>0.473607</td>\n",
       "      <td>0.00</td>\n",
       "      <td>0.000</td>\n",
       "      <td>0.000</td>\n",
       "      <td>1.0000</td>\n",
       "      <td>1.00</td>\n",
       "    </tr>\n",
       "    <tr>\n",
       "      <th>months_April</th>\n",
       "      <td>1000.0</td>\n",
       "      <td>0.14700</td>\n",
       "      <td>0.354283</td>\n",
       "      <td>0.00</td>\n",
       "      <td>0.000</td>\n",
       "      <td>0.000</td>\n",
       "      <td>0.0000</td>\n",
       "      <td>1.00</td>\n",
       "    </tr>\n",
       "    <tr>\n",
       "      <th>months_February</th>\n",
       "      <td>1000.0</td>\n",
       "      <td>0.16000</td>\n",
       "      <td>0.366789</td>\n",
       "      <td>0.00</td>\n",
       "      <td>0.000</td>\n",
       "      <td>0.000</td>\n",
       "      <td>0.0000</td>\n",
       "      <td>1.00</td>\n",
       "    </tr>\n",
       "    <tr>\n",
       "      <th>months_January</th>\n",
       "      <td>1000.0</td>\n",
       "      <td>0.14700</td>\n",
       "      <td>0.354283</td>\n",
       "      <td>0.00</td>\n",
       "      <td>0.000</td>\n",
       "      <td>0.000</td>\n",
       "      <td>0.0000</td>\n",
       "      <td>1.00</td>\n",
       "    </tr>\n",
       "    <tr>\n",
       "      <th>months_July</th>\n",
       "      <td>1000.0</td>\n",
       "      <td>0.10100</td>\n",
       "      <td>0.301480</td>\n",
       "      <td>0.00</td>\n",
       "      <td>0.000</td>\n",
       "      <td>0.000</td>\n",
       "      <td>0.0000</td>\n",
       "      <td>1.00</td>\n",
       "    </tr>\n",
       "    <tr>\n",
       "      <th>months_June</th>\n",
       "      <td>1000.0</td>\n",
       "      <td>0.14200</td>\n",
       "      <td>0.349225</td>\n",
       "      <td>0.00</td>\n",
       "      <td>0.000</td>\n",
       "      <td>0.000</td>\n",
       "      <td>0.0000</td>\n",
       "      <td>1.00</td>\n",
       "    </tr>\n",
       "    <tr>\n",
       "      <th>months_March</th>\n",
       "      <td>1000.0</td>\n",
       "      <td>0.15600</td>\n",
       "      <td>0.363037</td>\n",
       "      <td>0.00</td>\n",
       "      <td>0.000</td>\n",
       "      <td>0.000</td>\n",
       "      <td>0.0000</td>\n",
       "      <td>1.00</td>\n",
       "    </tr>\n",
       "    <tr>\n",
       "      <th>months_May</th>\n",
       "      <td>1000.0</td>\n",
       "      <td>0.14700</td>\n",
       "      <td>0.354283</td>\n",
       "      <td>0.00</td>\n",
       "      <td>0.000</td>\n",
       "      <td>0.000</td>\n",
       "      <td>0.0000</td>\n",
       "      <td>1.00</td>\n",
       "    </tr>\n",
       "    <tr>\n",
       "      <th>hours_group_in_days_dini hari</th>\n",
       "      <td>1000.0</td>\n",
       "      <td>0.24100</td>\n",
       "      <td>0.427904</td>\n",
       "      <td>0.00</td>\n",
       "      <td>0.000</td>\n",
       "      <td>0.000</td>\n",
       "      <td>0.0000</td>\n",
       "      <td>1.00</td>\n",
       "    </tr>\n",
       "    <tr>\n",
       "      <th>hours_group_in_days_malam hari</th>\n",
       "      <td>1000.0</td>\n",
       "      <td>0.26500</td>\n",
       "      <td>0.441554</td>\n",
       "      <td>0.00</td>\n",
       "      <td>0.000</td>\n",
       "      <td>0.000</td>\n",
       "      <td>1.0000</td>\n",
       "      <td>1.00</td>\n",
       "    </tr>\n",
       "    <tr>\n",
       "      <th>hours_group_in_days_pagi hari</th>\n",
       "      <td>1000.0</td>\n",
       "      <td>0.25600</td>\n",
       "      <td>0.436640</td>\n",
       "      <td>0.00</td>\n",
       "      <td>0.000</td>\n",
       "      <td>0.000</td>\n",
       "      <td>1.0000</td>\n",
       "      <td>1.00</td>\n",
       "    </tr>\n",
       "    <tr>\n",
       "      <th>hours_group_in_days_siang hari</th>\n",
       "      <td>1000.0</td>\n",
       "      <td>0.23800</td>\n",
       "      <td>0.426072</td>\n",
       "      <td>0.00</td>\n",
       "      <td>0.000</td>\n",
       "      <td>0.000</td>\n",
       "      <td>0.0000</td>\n",
       "      <td>1.00</td>\n",
       "    </tr>\n",
       "  </tbody>\n",
       "</table>\n",
       "</div>"
      ],
      "text/plain": [
       "                                        count       mean        std     min  \\\n",
       "Age                                    1000.0   36.00900   8.785562   19.00   \n",
       "Daily Time Spent on Site               1000.0   64.89482  15.744175   32.60   \n",
       "Daily Internet Usage                   1000.0  179.13395  44.173689  104.78   \n",
       "Clicked on Ad                          1000.0    0.50000   0.500250    0.00   \n",
       "day_group_in_months_akhir bulan        1000.0    0.32300   0.467857    0.00   \n",
       "day_group_in_months_awal bulan         1000.0    0.33800   0.473265    0.00   \n",
       "day_group_in_months_pertengahan bulan  1000.0    0.33900   0.473607    0.00   \n",
       "months_April                           1000.0    0.14700   0.354283    0.00   \n",
       "months_February                        1000.0    0.16000   0.366789    0.00   \n",
       "months_January                         1000.0    0.14700   0.354283    0.00   \n",
       "months_July                            1000.0    0.10100   0.301480    0.00   \n",
       "months_June                            1000.0    0.14200   0.349225    0.00   \n",
       "months_March                           1000.0    0.15600   0.363037    0.00   \n",
       "months_May                             1000.0    0.14700   0.354283    0.00   \n",
       "hours_group_in_days_dini hari          1000.0    0.24100   0.427904    0.00   \n",
       "hours_group_in_days_malam hari         1000.0    0.26500   0.441554    0.00   \n",
       "hours_group_in_days_pagi hari          1000.0    0.25600   0.436640    0.00   \n",
       "hours_group_in_days_siang hari         1000.0    0.23800   0.426072    0.00   \n",
       "\n",
       "                                           25%      50%       75%     max  \n",
       "Age                                     29.000   35.000   42.0000   61.00  \n",
       "Daily Time Spent on Site                51.545   67.780   78.3525   91.43  \n",
       "Daily Internet Usage                   137.580  181.065  218.2875  267.01  \n",
       "Clicked on Ad                            0.000    0.500    1.0000    1.00  \n",
       "day_group_in_months_akhir bulan          0.000    0.000    1.0000    1.00  \n",
       "day_group_in_months_awal bulan           0.000    0.000    1.0000    1.00  \n",
       "day_group_in_months_pertengahan bulan    0.000    0.000    1.0000    1.00  \n",
       "months_April                             0.000    0.000    0.0000    1.00  \n",
       "months_February                          0.000    0.000    0.0000    1.00  \n",
       "months_January                           0.000    0.000    0.0000    1.00  \n",
       "months_July                              0.000    0.000    0.0000    1.00  \n",
       "months_June                              0.000    0.000    0.0000    1.00  \n",
       "months_March                             0.000    0.000    0.0000    1.00  \n",
       "months_May                               0.000    0.000    0.0000    1.00  \n",
       "hours_group_in_days_dini hari            0.000    0.000    0.0000    1.00  \n",
       "hours_group_in_days_malam hari           0.000    0.000    1.0000    1.00  \n",
       "hours_group_in_days_pagi hari            0.000    0.000    1.0000    1.00  \n",
       "hours_group_in_days_siang hari           0.000    0.000    0.0000    1.00  "
      ]
     },
     "execution_count": 31,
     "metadata": {},
     "output_type": "execute_result"
    }
   ],
   "source": [
    "df_onehot.describe().T"
   ]
  },
  {
   "cell_type": "markdown",
   "id": "d13b3b54",
   "metadata": {},
   "source": [
    "Dilakukan feature encoding untuk feature kategorik agar dapat diproses pada machine learning"
   ]
  },
  {
   "cell_type": "markdown",
   "id": "162c46d0",
   "metadata": {},
   "source": [
    "# Split Data"
   ]
  },
  {
   "cell_type": "code",
   "execution_count": 32,
   "id": "eca9b4cd",
   "metadata": {},
   "outputs": [],
   "source": [
    "df_split = df_onehot.copy()"
   ]
  },
  {
   "cell_type": "code",
   "execution_count": 33,
   "id": "4116cabf",
   "metadata": {},
   "outputs": [],
   "source": [
    "# Split Feature and Label\n",
    "x = df_split.drop(['Clicked on Ad'],axis=1)\n",
    "y = df_split['Clicked on Ad'] # target / label\n",
    "\n",
    "#Splitting the data into Train and Test\n",
    "xtrain, xtest, ytrain, ytest = train_test_split(x, y, test_size = 0.3, random_state = 42)"
   ]
  },
  {
   "cell_type": "markdown",
   "id": "880f36ee",
   "metadata": {},
   "source": [
    "Dilakukan split data dengan 30% test data dan 70 % training data"
   ]
  },
  {
   "cell_type": "markdown",
   "id": "ffc1525c",
   "metadata": {},
   "source": [
    "## Standarization"
   ]
  },
  {
   "cell_type": "code",
   "execution_count": 34,
   "id": "1e175ead",
   "metadata": {},
   "outputs": [],
   "source": [
    "num = ['Age','Daily Time Spent on Site', 'Daily Internet Usage']"
   ]
  },
  {
   "cell_type": "code",
   "execution_count": 35,
   "id": "c252495c",
   "metadata": {},
   "outputs": [],
   "source": [
    "\n",
    "sc = StandardScaler()\n",
    "xtrain_scaled = xtrain.copy()\n",
    "xtest_scaled = xtest.copy()\n",
    "xtrain_scaled[num] = sc.fit_transform(xtrain_scaled[num])\n",
    "xtest_scaled[num] = sc.transform(xtest_scaled[num])"
   ]
  },
  {
   "cell_type": "markdown",
   "id": "6c7e0bfb",
   "metadata": {},
   "source": [
    "Akan dilakukan experimen dimana model yang dibuat dengan algoritma yang telah ditentukan menggunakan data training yang telah melalu proses standarisasi atau belum"
   ]
  },
  {
   "cell_type": "markdown",
   "id": "fa09b456",
   "metadata": {},
   "source": [
    "# Fitting and model evaluation"
   ]
  },
  {
   "cell_type": "markdown",
   "id": "9b91c777",
   "metadata": {},
   "source": [
    "## Logistic Regression"
   ]
  },
  {
   "cell_type": "code",
   "execution_count": 36,
   "id": "c1a4d886",
   "metadata": {},
   "outputs": [],
   "source": [
    "def eval_classification(model, xtrain, ytrain, xtest, ytest):\n",
    "    ypred = model.predict(xtest)\n",
    "    print(\"Accuracy (Test Set): %.4f\" % accuracy_score(ytest, ypred))\n",
    "    print(\"Precision (Test Set): %.2f\" % precision_score(ytest, ypred))\n",
    "    print(\"Recall (Test Set): %.2f\" % recall_score(ytest, ypred))\n",
    "    print(\"F1-Score (Test Set): %.2f\" % f1_score(ytest, ypred))\n",
    "    \n",
    "    y_pred_proba = model.predict_proba(xtest)\n",
    "    print(\"AUC: %.2f\" % roc_auc_score(ytest, y_pred_proba[:, 1]))"
   ]
  },
  {
   "cell_type": "code",
   "execution_count": 37,
   "id": "953f1be9",
   "metadata": {},
   "outputs": [
    {
     "name": "stderr",
     "output_type": "stream",
     "text": [
      "C:\\ProgramData\\Anaconda3\\lib\\site-packages\\sklearn\\linear_model\\_logistic.py:763: ConvergenceWarning: lbfgs failed to converge (status=1):\n",
      "STOP: TOTAL NO. of ITERATIONS REACHED LIMIT.\n",
      "\n",
      "Increase the number of iterations (max_iter) or scale the data as shown in:\n",
      "    https://scikit-learn.org/stable/modules/preprocessing.html\n",
      "Please also refer to the documentation for alternative solver options:\n",
      "    https://scikit-learn.org/stable/modules/linear_model.html#logistic-regression\n",
      "  n_iter_i = _check_optimize_result(\n"
     ]
    },
    {
     "data": {
      "text/plain": [
       "LogisticRegression()"
      ]
     },
     "execution_count": 37,
     "metadata": {},
     "output_type": "execute_result"
    }
   ],
   "source": [
    "lr = LogisticRegression()\n",
    "lr.fit(xtrain, ytrain)"
   ]
  },
  {
   "cell_type": "code",
   "execution_count": 38,
   "id": "450b3267",
   "metadata": {},
   "outputs": [
    {
     "name": "stdout",
     "output_type": "stream",
     "text": [
      "Accuracy (Test Set): 0.9367\n",
      "Precision (Test Set): 0.95\n",
      "Recall (Test Set): 0.92\n",
      "F1-Score (Test Set): 0.94\n",
      "AUC: 0.98\n"
     ]
    }
   ],
   "source": [
    "eval_classification(lr, xtrain, ytrain, xtest, ytest)"
   ]
  },
  {
   "cell_type": "markdown",
   "id": "5a07bbd8",
   "metadata": {},
   "source": [
    "## Standarisasi Logistic Regression"
   ]
  },
  {
   "cell_type": "code",
   "execution_count": 39,
   "id": "d1d8ccfc",
   "metadata": {},
   "outputs": [
    {
     "data": {
      "text/plain": [
       "LogisticRegression()"
      ]
     },
     "execution_count": 39,
     "metadata": {},
     "output_type": "execute_result"
    }
   ],
   "source": [
    "lr_std = LogisticRegression()\n",
    "lr_std.fit(xtrain_scaled, ytrain)"
   ]
  },
  {
   "cell_type": "code",
   "execution_count": 40,
   "id": "a8ed1d17",
   "metadata": {},
   "outputs": [
    {
     "name": "stdout",
     "output_type": "stream",
     "text": [
      "Accuracy (Test Set): 0.9400\n",
      "Precision (Test Set): 0.95\n",
      "Recall (Test Set): 0.93\n",
      "F1-Score (Test Set): 0.94\n",
      "AUC: 0.98\n"
     ]
    }
   ],
   "source": [
    "eval_classification(lr_std, xtrain_scaled, ytrain, xtest_scaled, ytest)"
   ]
  },
  {
   "cell_type": "markdown",
   "id": "9d956801",
   "metadata": {},
   "source": [
    "## Decision Tree"
   ]
  },
  {
   "cell_type": "code",
   "execution_count": 41,
   "id": "fc89759f",
   "metadata": {},
   "outputs": [
    {
     "data": {
      "text/plain": [
       "DecisionTreeClassifier()"
      ]
     },
     "execution_count": 41,
     "metadata": {},
     "output_type": "execute_result"
    }
   ],
   "source": [
    "dt = DecisionTreeClassifier() \n",
    "dt.fit(xtrain, ytrain) "
   ]
  },
  {
   "cell_type": "code",
   "execution_count": 42,
   "id": "80a16e8e",
   "metadata": {},
   "outputs": [
    {
     "name": "stdout",
     "output_type": "stream",
     "text": [
      "Accuracy (Test Set): 0.9233\n",
      "Precision (Test Set): 0.92\n",
      "Recall (Test Set): 0.93\n",
      "F1-Score (Test Set): 0.93\n",
      "AUC: 0.92\n"
     ]
    }
   ],
   "source": [
    "eval_classification(dt, xtrain, ytrain, xtest, ytest)"
   ]
  },
  {
   "cell_type": "markdown",
   "id": "8153fbf8",
   "metadata": {},
   "source": [
    "## Standarisasi Decision Tree"
   ]
  },
  {
   "cell_type": "code",
   "execution_count": 43,
   "id": "d9d005fd",
   "metadata": {},
   "outputs": [
    {
     "data": {
      "text/plain": [
       "DecisionTreeClassifier()"
      ]
     },
     "execution_count": 43,
     "metadata": {},
     "output_type": "execute_result"
    }
   ],
   "source": [
    "dt_std = DecisionTreeClassifier() \n",
    "dt_std.fit(xtrain_scaled, ytrain) "
   ]
  },
  {
   "cell_type": "code",
   "execution_count": 44,
   "id": "29eb7e07",
   "metadata": {},
   "outputs": [
    {
     "name": "stdout",
     "output_type": "stream",
     "text": [
      "Accuracy (Test Set): 0.9167\n",
      "Precision (Test Set): 0.92\n",
      "Recall (Test Set): 0.92\n",
      "F1-Score (Test Set): 0.92\n",
      "AUC: 0.92\n"
     ]
    }
   ],
   "source": [
    "eval_classification(dt_std, xtrain_scaled, ytrain, xtest_scaled, ytest)"
   ]
  },
  {
   "cell_type": "markdown",
   "id": "9a4bcaa0",
   "metadata": {},
   "source": [
    "## K-nearest Neighbor"
   ]
  },
  {
   "cell_type": "code",
   "execution_count": 45,
   "id": "6c6d870f",
   "metadata": {},
   "outputs": [
    {
     "data": {
      "text/plain": [
       "KNeighborsClassifier()"
      ]
     },
     "execution_count": 45,
     "metadata": {},
     "output_type": "execute_result"
    }
   ],
   "source": [
    "knn = KNeighborsClassifier()\n",
    "knn.fit(xtrain,ytrain)"
   ]
  },
  {
   "cell_type": "code",
   "execution_count": 46,
   "id": "85861864",
   "metadata": {},
   "outputs": [
    {
     "name": "stdout",
     "output_type": "stream",
     "text": [
      "Accuracy (Test Set): 0.9367\n",
      "Precision (Test Set): 0.95\n",
      "Recall (Test Set): 0.92\n",
      "F1-Score (Test Set): 0.94\n",
      "AUC: 0.97\n"
     ]
    }
   ],
   "source": [
    "eval_classification(knn, xtrain, ytrain, xtest, ytest)"
   ]
  },
  {
   "cell_type": "markdown",
   "id": "3b5af776",
   "metadata": {},
   "source": [
    "## Standarisasi K-nearest Neighbor"
   ]
  },
  {
   "cell_type": "code",
   "execution_count": 47,
   "id": "5b70f2a1",
   "metadata": {},
   "outputs": [
    {
     "data": {
      "text/plain": [
       "KNeighborsClassifier()"
      ]
     },
     "execution_count": 47,
     "metadata": {},
     "output_type": "execute_result"
    }
   ],
   "source": [
    "knn_std = KNeighborsClassifier()\n",
    "knn_std.fit(xtrain_scaled,ytrain)"
   ]
  },
  {
   "cell_type": "code",
   "execution_count": 48,
   "id": "e1ac30ce",
   "metadata": {},
   "outputs": [
    {
     "name": "stdout",
     "output_type": "stream",
     "text": [
      "Accuracy (Test Set): 0.9267\n",
      "Precision (Test Set): 0.95\n",
      "Recall (Test Set): 0.90\n",
      "F1-Score (Test Set): 0.93\n",
      "AUC: 0.96\n"
     ]
    }
   ],
   "source": [
    "eval_classification(knn_std, xtrain_scaled, ytrain, xtest_scaled, ytest)"
   ]
  },
  {
   "cell_type": "markdown",
   "id": "0cc73911",
   "metadata": {},
   "source": [
    "Setelah dilakukannya \n",
    "* experimen 1 yaitu modeling dengan data sebelum normalisasi dan \n",
    "* experimen 2 yaitu model dengan data setelah normalissasi \n",
    "* Dengan algoritma Logistic Regression, Decision tree, dan K-nearest neighbor\n",
    "* didapatkan nilia bahwa Accuracy (Test Set), Precision (Test Set), Recall (Test Set), F1-Score (Test Set), dan AUC memilki nilai yang sangat tinggi yang seluruhnya memiliki nilai diatas 90 % \n",
    "* ini dimungkinkan oleh banyaknya fitur yang digunakan yang menyebabkan overfitting\n",
    "* Dari hasil yang didapatkan akan dibandingkan nilai Accuracy tertinggi yang akan dilanjutkan pada analisis Confusion Matrics\n",
    "* Algoritma dengan hasil accuracy tertinggi yaitu Logistic Regression yang telah terstandarisasi\n",
    "* Dan algoritma yang digunakan untuk menentukan feature importance yaitu menggunakan standarisasi decision tree yang dikarenakan dua algoritma yang digunakan tidak mendukung fungsi feature importance"
   ]
  },
  {
   "cell_type": "markdown",
   "id": "62cd9edc",
   "metadata": {},
   "source": [
    "## Confusion Matrics"
   ]
  },
  {
   "cell_type": "code",
   "execution_count": 54,
   "id": "3eee1d2e",
   "metadata": {},
   "outputs": [
    {
     "name": "stdout",
     "output_type": "stream",
     "text": [
      "[[139   7]\n",
      " [ 11 143]]\n"
     ]
    }
   ],
   "source": [
    "# IMPORTANT: first argument is true values, second argument is predicted values\n",
    "# this produces a 2x2 numpy array (matrix)\n",
    "ypred = lr_std.predict(xtest_scaled)\n",
    "confusion_matrix = metrics.confusion_matrix(ytest, ypred)\n",
    "\n",
    "print(confusion_matrix)"
   ]
  },
  {
   "cell_type": "code",
   "execution_count": 55,
   "id": "773021c0",
   "metadata": {},
   "outputs": [
    {
     "data": {
      "image/png": "[encoded data removed]",
      "text/plain": [
       "<Figure size 432x288 with 2 Axes>"
      ]
     },
     "metadata": {
      "needs_background": "light"
     },
     "output_type": "display_data"
    }
   ],
   "source": [
    "cm_display = metrics.ConfusionMatrixDisplay(confusion_matrix = confusion_matrix, display_labels = [False, True])\n",
    "\n",
    "cm_display.plot()\n",
    "plt.show() "
   ]
  },
  {
   "cell_type": "markdown",
   "id": "03a051bd",
   "metadata": {},
   "source": [
    "Dapat dilihat pada hasil Click on Ad Confusion Matrix yaitu :\n",
    "(Predicted label, True Label)\n",
    "* True True (TT) : merupakan prediksi benar model bahwa customer click Ad sebanyak (143)\n",
    "* False False (FF) : merupakan prediksi benar model bahwa customer tidak click Ad sebanyak (139)\n",
    "* False True (FT) : merupakan predisksi salah model bahwa customer tidak click Ad tetapi sebenarnya iya (11)\n",
    "* True False (TF) : merupakan predisksi salah model bahwa customer click Ad tetapi sebenarnya tidak (7)\n",
    "\n",
    "\n",
    "Jadi hasil akurasi dari model menggunakan algoritma Logistic Regression dengan Strndarisasi yaitu :\n",
    "Accurasi = TT + FF / n_data = 143 + 139 /300 = 94%\n",
    "\n",
    "dari hasil tersebut dapat disimpulkkan bahwa model tersebut dapat mendukung perusahaan untuk mengklasifikasi customer yang melihat iklan "
   ]
  },
  {
   "cell_type": "markdown",
   "id": "b7afa9f1",
   "metadata": {},
   "source": [
    "## Feature Importance"
   ]
  },
  {
   "cell_type": "code",
   "execution_count": 79,
   "id": "87a4057d",
   "metadata": {},
   "outputs": [
    {
     "data": {
      "text/plain": [
       "<AxesSubplot:title={'center':'Feature Importance'}>"
      ]
     },
     "execution_count": 79,
     "metadata": {},
     "output_type": "execute_result"
    },
    {
     "data": {
      "image/png": "[encoded data removed]",
      "text/plain": [
       "<Figure size 360x360 with 1 Axes>"
      ]
     },
     "metadata": {},
     "output_type": "display_data"
    }
   ],
   "source": [
    "from sklearn.feature_selection import SelectFromModel\n",
    "\n",
    "dt_std = DecisionTreeClassifier() \n",
    "dt_std = dt_std.fit(xtrain_scaled, ytrain) \n",
    "dt_std.feature_importances_  \n",
    "model = SelectFromModel(dt_std, prefit=True)\n",
    "test_X_new = model.transform(xtest_scaled)\n",
    "\n",
    "plt.rc('figure', figsize=[5,5])\n",
    "plt.style.use('ggplot')\n",
    "\n",
    "feat_importances = pd.Series(dt_std.feature_importances_, index=xtest.columns)\n",
    "feat_importances.nlargest(30).plot(kind='barh',title = 'Feature Importance')"
   ]
  },
  {
   "cell_type": "markdown",
   "id": "add5b025",
   "metadata": {},
   "source": [
    "5 feature denagn nilai Feature importance tertinggi yang didapatkan pada experimen ini yaitu : \n",
    "1. Daily Internet Usage\n",
    "2. Daily Time Spent on Site \n",
    "3. Age\n",
    "4. months_January\n",
    "5. months_Februari "
   ]
  },
  {
   "cell_type": "markdown",
   "id": "67de9413",
   "metadata": {},
   "source": [
    "Dari hasil tersebut kita dapat berasumsi bahwa Seberapa seringnya customer menggunakan internet sangatlah berpengaruh apakah customer akan mengunjungi iklan atau tidak, yang pastinya dilanjutkan oleh bagaiman aseringnya customer mengunjungi website perusahaan "
   ]
  },
  {
   "cell_type": "markdown",
   "id": "4947dc99",
   "metadata": {},
   "source": [
    "untuk nilai ke 3 menunjukkan bahwa usia cukup mempengaruhi bagaimana customer akan mengunjungi iklan atau tidak, dan untuk ke 4, dan ke 5 menunjukkan spesifik bulan dimana customer lebih sering untuk mengunjungi iklan"
   ]
  },
  {
   "cell_type": "markdown",
   "id": "c3203682",
   "metadata": {},
   "source": [
    "### Referensi \n",
    "* Rakamin\n",
    "* https://www.ritchieng.com/machine-learning-evaluate-classification-model/\n",
    "* https://www.w3schools.com/python/python_ml_confusion_matrix.asp\n",
    "* https://stackoverflow.com/questions/66750706/sklearn-important-features-error-when-using-logistic-regression"
   ]
  },
  {
   "cell_type": "markdown",
   "id": "f3554bfd",
   "metadata": {},
   "source": [
    "Terima kasih "
   ]
  }
 ],
 "metadata": {
  "kernelspec": {
   "display_name": "Python 3 (ipykernel)",
   "language": "python",
   "name": "python3"
  },
  "language_info": {
   "codemirror_mode": {
    "name": "ipython",
    "version": 3
   },
   "file_extension": ".py",
   "mimetype": "text/x-python",
   "name": "python",
   "nbconvert_exporter": "python",
   "pygments_lexer": "ipython3",
   "version": "3.9.7"
  }
 },
 "nbformat": 4,
 "nbformat_minor": 5
}
